{
 "cells": [
  {
   "cell_type": "code",
   "execution_count": null,
   "metadata": {},
   "outputs": [],
   "source": [
    "import boto3\n",
    "import pandas as pd\n",
    "import configparser\n",
    "import json"
   ]
  },
  {
   "cell_type": "code",
   "execution_count": null,
   "metadata": {},
   "outputs": [],
   "source": [
    "conf = configparser.ConfigParser()\n",
    "conf.read_file(open('dwh.cfg'))\n",
    "\n",
    "KEY=conf.get(\"AWS\",\"KEY\")\n",
    "SECRET=conf.get(\"AWS\",\"SECRET\")\n",
    "DWH_CLUSTER_IDENTIFIER = conf.get(\"CLUSTER\",\"DWH_CLUSTER_IDENTIFIER\")\n",
    "DWH_DB                 = conf.get(\"CLUSTER\",\"DB_NAME\")\n",
    "DWH_DB_USER            = conf.get(\"CLUSTER\",\"DB_USER\")\n",
    "DWH_DB_PASSWORD        = conf.get(\"CLUSTER\",\"DB_PASSWORD\")\n",
    "DWH_PORT               = conf.get(\"CLUSTER\",\"DB_PORT\")\n",
    "DWH_ENDPOINT           = conf.get(\"CLUSTER\",\"HOST\")"
   ]
  },
  {
   "cell_type": "code",
   "execution_count": null,
   "metadata": {},
   "outputs": [],
   "source": [
    "s3 = boto3.resource('s3',\n",
    "                       region_name=\"us-west-2\",\n",
    "                       aws_access_key_id=KEY,\n",
    "                       aws_secret_access_key=SECRET\n",
    "                     )\n"
   ]
  },
  {
   "cell_type": "code",
   "execution_count": null,
   "metadata": {},
   "outputs": [],
   "source": [
    "log_bucket = s3.Bucket(\"udacity-dend\")\n",
    "song_bucket = s3.Bucket(conf.get(\"S3\",\"SONG_DATA\"))\n",
    "JSONPATH_bucket = s3.Bucket(conf.get(\"S3\",\"LOG_JSONPATH\"))"
   ]
  },
  {
   "cell_type": "code",
   "execution_count": null,
   "metadata": {},
   "outputs": [],
   "source": [
    "for obj in log_bucket.objects.filter(Prefix='log-data'):\n",
    "    print(obj)"
   ]
  },
  {
   "cell_type": "code",
   "execution_count": null,
   "metadata": {},
   "outputs": [],
   "source": [
    "#for obj in song_bucket.objects.filter(Prefix='song-data/A/A/A'):\n",
    "#    print(obj)"
   ]
  },
  {
   "cell_type": "code",
   "execution_count": null,
   "metadata": {},
   "outputs": [],
   "source": [
    "#for obj in song_bucket.objects.filter(Prefix='log_json_path'):\n",
    "#    print(obj)"
   ]
  },
  {
   "cell_type": "code",
   "execution_count": null,
   "metadata": {},
   "outputs": [],
   "source": [
    "%load_ext sql"
   ]
  },
  {
   "cell_type": "code",
   "execution_count": null,
   "metadata": {},
   "outputs": [],
   "source": [
    "conn_string=\"postgresql://{}:{}@{}:{}/{}\".format(DWH_DB_USER, DWH_DB_PASSWORD, DWH_ENDPOINT, DWH_PORT,DWH_DB)\n",
    "print(conn_string)\n",
    "%sql $conn_string"
   ]
  },
  {
   "cell_type": "code",
   "execution_count": null,
   "metadata": {},
   "outputs": [],
   "source": [
    "## cell below function for date to convert from timestamp to date"
   ]
  },
  {
   "cell_type": "code",
   "execution_count": null,
   "metadata": {},
   "outputs": [],
   "source": [
    "%%sql\n",
    "CREATE OR REPLACE FUNCTION from_unixtime(epoch BIGINT)\n",
    "  RETURNS TIMESTAMP  AS\n",
    "'from datetime import datetime\n",
    "\n",
    "x = lambda epoch : datetime.fromtimestamp(epoch/1000.0)\n",
    "\n",
    "return x(epoch)\n",
    "\n",
    "#return datetime.datetime.fromtimestamp(epoch)\n",
    "'\n",
    "LANGUAGE plpythonu IMMUTABLE;\n"
   ]
  },
  {
   "cell_type": "code",
   "execution_count": null,
   "metadata": {},
   "outputs": [],
   "source": [
    "%%sql\n",
    "Drop table if exists events;\n",
    "create table if not exists events \n",
    "(\n",
    "artist text,\n",
    "auth varchar(200),\n",
    "firstName varchar(200),\n",
    "gender varchar(200),\n",
    "itemInSession int,\n",
    "lastName varchar(200),\n",
    "length float,\n",
    "level varchar(200),\n",
    "location varchar(50),\n",
    "method varchar(50),\n",
    "page varchar(50),\n",
    "registration float,\n",
    "session_id int,\n",
    "song varchar(200),\n",
    "status int,\n",
    "ts bigint,\n",
    "userAgent text,\n",
    "userId int\n",
    ")"
   ]
  },
  {
   "cell_type": "code",
   "execution_count": null,
   "metadata": {},
   "outputs": [],
   "source": [
    "LOG_DATA=conf.get(\"S3\",\"LOG_DATA\")\n",
    "ARN=conf.get(\"IAM_ROLE\",\"ARN\")\n",
    "JSONPATH_DATA = conf.get(\"S3\",\"LOG_JSONPATH\")\n",
    "\n",
    "staging_events_copy = (\"\"\" \n",
    "    copy events from {}\n",
    "    credentials 'aws_iam_role={}'\n",
    "    FORMAT AS json {};\n",
    "\"\"\").format(LOG_DATA,ARN,JSONPATH_DATA)\n"
   ]
  },
  {
   "cell_type": "code",
   "execution_count": null,
   "metadata": {},
   "outputs": [],
   "source": [
    "%sql $staging_events_copy"
   ]
  },
  {
   "cell_type": "code",
   "execution_count": null,
   "metadata": {},
   "outputs": [],
   "source": [
    "%%sql\n",
    "SELECT count(*) FROM events"
   ]
  },
  {
   "cell_type": "code",
   "execution_count": null,
   "metadata": {},
   "outputs": [],
   "source": [
    "%%sql \n",
    "SELECT * FROM events limit 5"
   ]
  },
  {
   "cell_type": "code",
   "execution_count": null,
   "metadata": {},
   "outputs": [],
   "source": [
    "%%sql \n",
    "SELECT from_unixtime(ts) from events limit 5;\n"
   ]
  },
  {
   "cell_type": "code",
   "execution_count": null,
   "metadata": {},
   "outputs": [],
   "source": [
    "%%sql \n",
    "select top 5 * from stl_load_errors "
   ]
  },
  {
   "cell_type": "code",
   "execution_count": null,
   "metadata": {},
   "outputs": [],
   "source": [
    "%%sql\n",
    "drop table if exists songs;"
   ]
  },
  {
   "cell_type": "code",
   "execution_count": null,
   "metadata": {},
   "outputs": [],
   "source": [
    "SONG_DATA=conf.get(\"S3\",\"SONG_DATA\")\n"
   ]
  },
  {
   "cell_type": "code",
   "execution_count": null,
   "metadata": {},
   "outputs": [],
   "source": [
    "sampleDbBucket =  s3.Bucket(\"udacity-dend\")"
   ]
  },
  {
   "cell_type": "code",
   "execution_count": null,
   "metadata": {},
   "outputs": [],
   "source": [
    "#for obj in sampleDbBucket.objects.filter(Prefix=\"song-data/A/A\"):\n",
    " #   print(obj)"
   ]
  },
  {
   "cell_type": "code",
   "execution_count": null,
   "metadata": {},
   "outputs": [],
   "source": [
    "%%sql\n",
    "Create table if not exists songs \n",
    "(\n",
    "num_songs int,\n",
    "artist_id varchar(200) NOT NULL ,\n",
    "artist_latitude DOUBLE PRECISION,\n",
    "artist_longitude DOUBLE PRECISION,\n",
    "artist_location varchar(2000),\n",
    "artist_name varchar(2000),\n",
    "song_id     varchar(200),\n",
    "title  varchar(200),\n",
    "duration DOUBLE PRECISION,\n",
    "year int,\n",
    "PRIMARY KEY (artist_id)\n",
    ")"
   ]
  },
  {
   "cell_type": "code",
   "execution_count": null,
   "metadata": {},
   "outputs": [],
   "source": [
    "SONG_DATA=conf.get(\"S3\",\"SONG_DATA\")\n",
    "\n",
    "\n",
    "staging_songs_copy = (\"\"\"\n",
    "    copy songs from 's3://udacity-dend/song-data/A/A'\n",
    "    credentials 'aws_iam_role={}'\n",
    "    json 'auto'\n",
    "    region 'us-west-2' \n",
    " COMPUPDATE OFF STATUPDATE OFF\n",
    ";\n",
    "\"\"\").format(ARN)\n"
   ]
  },
  {
   "cell_type": "code",
   "execution_count": null,
   "metadata": {},
   "outputs": [],
   "source": [
    "%sql $staging_songs_copy"
   ]
  },
  {
   "cell_type": "code",
   "execution_count": null,
   "metadata": {},
   "outputs": [],
   "source": [
    "%%sql \n",
    "Select * from songs limit 5"
   ]
  },
  {
   "cell_type": "code",
   "execution_count": null,
   "metadata": {},
   "outputs": [],
   "source": [
    "%%sql \n",
    "Select count(*) from songs"
   ]
  },
  {
   "cell_type": "markdown",
   "metadata": {},
   "source": [
    "## dim_songs "
   ]
  },
  {
   "cell_type": "markdown",
   "metadata": {},
   "source": [
    "song_id, title, artist_id, year, duration\n"
   ]
  },
  {
   "cell_type": "code",
   "execution_count": null,
   "metadata": {},
   "outputs": [],
   "source": [
    "%%sql \n",
    "\n",
    "\n",
    "DROP TABLE if exists dim_songs ;\n",
    "\n",
    "CREATE TABLE if not exists dim_songs \n",
    "(\n",
    "song_key int IDENTITY(0,1) sortkey,\n",
    "song_id varchar(200) NOT NULL,\n",
    "title varchar(200),\n",
    "artist_id varchar(200),\n",
    "year int,\n",
    "duration DOUBLE PRECISION,\n",
    "PRIMARY KEY (song_key)\n",
    ");\n",
    "\n"
   ]
  },
  {
   "cell_type": "code",
   "execution_count": null,
   "metadata": {},
   "outputs": [],
   "source": [
    "%%sql \n",
    "\n",
    "insert into dim_songs (song_id,title,artist_id,year,duration)\n",
    "select \n",
    "DISTINCT song_id,\n",
    "title,\n",
    "artist_id,\n",
    "year,\n",
    "duration\n",
    "from songs"
   ]
  },
  {
   "cell_type": "code",
   "execution_count": null,
   "metadata": {},
   "outputs": [],
   "source": [
    "%%sql \n",
    "\n",
    "select * from dim_songs limit 5"
   ]
  },
  {
   "cell_type": "markdown",
   "metadata": {},
   "source": [
    "## users table"
   ]
  },
  {
   "cell_type": "code",
   "execution_count": null,
   "metadata": {},
   "outputs": [],
   "source": [
    "%%sql \n",
    "DROP TABLE if exists users ;\n",
    "\n",
    "CREATE TABLE if not exists users \n",
    "(\n",
    "user_key int IDENTITY(0,1) sortkey,\n",
    "userid int NOT NULL,\n",
    "firstName varchar(200),\n",
    "lastName varchar(200),\n",
    "gender varchar(200),\n",
    "level varchar(200),\n",
    "PRIMARY KEY (user_key)\n",
    ");\n",
    "\n",
    "\n",
    "insert into users (userid,firstName,lastName,gender,level) \n",
    "SELECT\n",
    "userid,\n",
    "firstName,\n",
    "lastName,\n",
    "gender,\n",
    "level\n",
    "from (\n",
    "        select\n",
    "        userid,\n",
    "        firstName,\n",
    "        lastName,\n",
    "        gender,\n",
    "        level,\n",
    "        from_unixtime(ts) as date,\n",
    "        row_number() OVER (\n",
    "            PARTITION BY userid\n",
    "            ORDER BY date DESC\n",
    "        ) as row_number\n",
    "\n",
    "        from  events )\n",
    "where userid is not null\n",
    "and row_number = 1\n",
    ";\n"
   ]
  },
  {
   "cell_type": "code",
   "execution_count": null,
   "metadata": {},
   "outputs": [],
   "source": [
    "%%sql \n",
    "select * from users limit 5"
   ]
  },
  {
   "cell_type": "markdown",
   "metadata": {},
   "source": [
    "## time\n"
   ]
  },
  {
   "cell_type": "code",
   "execution_count": null,
   "metadata": {},
   "outputs": [],
   "source": [
    "%%sql\n",
    "DROP Table if exists dim_time;\n",
    "CREATE TABLE if not exists dim_time (\n",
    "date_key int IDENTITY(0,1) sortkey,\n",
    "start_time bigint NOT NULL,\n",
    "hour int ,\n",
    "day int ,\n",
    "month int,\n",
    "year int ,\n",
    "dayofweek int,\n",
    "PRIMARY KEY (date_key) \n",
    ")\n",
    "diststyle all;\n",
    "\n"
   ]
  },
  {
   "cell_type": "code",
   "execution_count": null,
   "metadata": {},
   "outputs": [],
   "source": [
    "date = %sql Select from_unixtime(ts) from events"
   ]
  },
  {
   "cell_type": "code",
   "execution_count": null,
   "metadata": {},
   "outputs": [],
   "source": [
    "#date"
   ]
  },
  {
   "cell_type": "code",
   "execution_count": null,
   "metadata": {},
   "outputs": [],
   "source": [
    "#df = date.DataFrame()"
   ]
  },
  {
   "cell_type": "code",
   "execution_count": null,
   "metadata": {},
   "outputs": [],
   "source": [
    "#from datetime import datetime\n"
   ]
  },
  {
   "cell_type": "code",
   "execution_count": null,
   "metadata": {},
   "outputs": [],
   "source": [
    "\n",
    "#t = df['ts'].apply(lambda x : datetime.fromtimestamp(x/1000.0))\n",
    "#\n",
    "#start_time=df['ts']\n",
    "#hour = t.dt.hour\n",
    "#day = t.dt.day\n",
    "#weekofyear = t.dt.weekofyear\n",
    "#month = t.dt.month\n",
    "#year = t.dt.year\n",
    "#dayofweek = t.dt.dayofweek\n",
    "## insert time data records\n",
    "#time_data = list(zip(start_time,hour,day,weekofyear,month,year,dayofweek))\n",
    "#column_labels = ('start_time','hour','day','weekofyear','month','year','dayofweek')\n",
    "#time_df = pd.DataFrame(data=time_data,columns=column_labels)\n"
   ]
  },
  {
   "cell_type": "code",
   "execution_count": null,
   "metadata": {},
   "outputs": [],
   "source": [
    "%%sql \n",
    "Select date_part(hour,from_unixtime(ts)) from events limit 5\n"
   ]
  },
  {
   "cell_type": "code",
   "execution_count": null,
   "metadata": {},
   "outputs": [],
   "source": [
    "%%sql \n",
    "\n",
    "SELECT (TIMESTAMP 'epoch' + ts/1000 * INTERVAL '1 Second ') as mytimestamp\n",
    "from events \n",
    "limit 5\n",
    "\n"
   ]
  },
  {
   "cell_type": "code",
   "execution_count": null,
   "metadata": {},
   "outputs": [],
   "source": [
    "%%sql \n",
    "INSERT INTO dim_time\n",
    "(start_time,hour,day,month,year,dayofweek)\n",
    "select \n",
    "ts,\n",
    "EXtract(hour from mytimestamp),\n",
    "EXtract(day from mytimestamp),\n",
    "EXtract(month from mytimestamp),\n",
    "EXtract(year from mytimestamp),\n",
    "EXtract(dow from mytimestamp)\n",
    "\n",
    "from (\n",
    "    SELECT ts,(TIMESTAMP 'epoch' + ts/1000 * INTERVAL '1 Second ') as mytimestamp\n",
    "from events \n",
    ")"
   ]
  },
  {
   "cell_type": "code",
   "execution_count": null,
   "metadata": {},
   "outputs": [],
   "source": [
    "%%sql\n",
    "select count(*) from dim_time"
   ]
  },
  {
   "cell_type": "code",
   "execution_count": null,
   "metadata": {},
   "outputs": [],
   "source": [
    "%%sql \n",
    "select * from dim_time limit 5"
   ]
  },
  {
   "cell_type": "markdown",
   "metadata": {},
   "source": [
    "## artist"
   ]
  },
  {
   "cell_type": "code",
   "execution_count": null,
   "metadata": {},
   "outputs": [],
   "source": [
    "%%sql \n",
    "DROP TABLE IF EXISTS dim_artists\n"
   ]
  },
  {
   "cell_type": "code",
   "execution_count": null,
   "metadata": {},
   "outputs": [],
   "source": [
    "%%sql\n",
    "CREATE TABLE IF NOT EXISTS dim_artists\n",
    "(\n",
    "artist_key int IDENTITY(0,1) sortkey,\n",
    "artist_id varchar(200) NOT NULL,\n",
    "artist_name varchar(200),\n",
    "artist_location varchar(200)\n",
    ",artist_latitude DOUBLE PRECISION,\n",
    "artist_longitude DOUBLE PRECISION\n",
    ")\n",
    "diststyle all"
   ]
  },
  {
   "cell_type": "code",
   "execution_count": null,
   "metadata": {},
   "outputs": [],
   "source": [
    "%%sql \n",
    "INSERT INTO dim_artists \n",
    "(artist_id,artist_name,artist_location,artist_latitude,artist_longitude)\n",
    "select DISTINCT artist_id,artist_name,artist_location,artist_latitude,artist_longitude from songs\n"
   ]
  },
  {
   "cell_type": "code",
   "execution_count": null,
   "metadata": {},
   "outputs": [],
   "source": [
    "%%sql \n",
    "select * from dim_artists limit 5"
   ]
  },
  {
   "cell_type": "code",
   "execution_count": null,
   "metadata": {},
   "outputs": [],
   "source": [
    "%sql DROP TABLE IF EXISTS songplays"
   ]
  },
  {
   "cell_type": "code",
   "execution_count": null,
   "metadata": {},
   "outputs": [],
   "source": [
    "%%sql\n",
    "\n",
    "create table if not exists songplays \n",
    "(\n",
    "songplay_key int IDENTITY(0,1)  NOT NULL sortkey distkey,\n",
    "start_time varchar(50),\n",
    "song_id varchar(200),\n",
    "artist_id varchar(200),\n",
    "level varchar(50),\n",
    "session_id int NOT NULL,\n",
    "location varchar(50),\n",
    "user_agent varchar(200),\n",
    "user_id int NOT NULL,\n",
    "PRIMARY KEY (songplay_key)\n",
    ")\n",
    ";"
   ]
  },
  {
   "cell_type": "code",
   "execution_count": null,
   "metadata": {},
   "outputs": [],
   "source": [
    "%%sql \n",
    "\n",
    "insert into songplays \n",
    "(artist_id,user_id,start_time,song_id,level,session_id,location,user_agent)\n",
    "select \n",
    "artist_id,\n",
    "userId,\n",
    "ts as start_time,\n",
    "song_id,\n",
    "level,\n",
    "session_id,\n",
    "location,\n",
    "userAgent\n",
    "from events e\n",
    "join songs s\n",
    "on e.song = s.title\n",
    "where e.page = 'NextSong'\n"
   ]
  },
  {
   "cell_type": "code",
   "execution_count": null,
   "metadata": {},
   "outputs": [],
   "source": [
    "%%sql \n",
    "Select * from songplays"
   ]
  },
  {
   "cell_type": "code",
   "execution_count": null,
   "metadata": {},
   "outputs": [],
   "source": [
    "staging_events_table_create= (\"\"\"\n",
    "create table if not exists events \n",
    "(\n",
    "artist text,\\\n",
    "auth varchar(200),\\\n",
    "firstName varchar(200),\\\n",
    "gender varchar(200),\\\n",
    "itemInSession int,\\\n",
    "lastName varchar(200),\\\n",
    "length float,\\\n",
    "level varchar(200),\\\n",
    "location varchar(50),\\\n",
    "method varchar(50),\\\n",
    "page varchar(50),\\\n",
    "registration float,\\\n",
    "session_id int,\\\n",
    "song varchar(200),\\\n",
    "status int,\\\n",
    "ts bigint,\\\n",
    "userAgent text,\\\n",
    "userId int\n",
    ")\n",
    "\"\"\")\n",
    "\n",
    "staging_songs_table_create = (\"\"\"\n",
    "Create table if not exists songs \n",
    "(\n",
    "num_songs int,\\\n",
    "artist_id varchar(200) NOT NULL,\\\n",
    "artist_latitude DOUBLE PRECISION,\\\n",
    "artist_longitude DOUBLE PRECISION,\\\n",
    "artist_location varchar(2000),\\\n",
    "artist_name varchar(2000),\\\n",
    "song_id     varchar(200),\\\n",
    "title  varchar(200),\\\n",
    "duration DOUBLE PRECISION,\\\n",
    "year int,\\\n",
    "PRIMARY KEY (artist_id)\n",
    ")\n",
    "\n",
    "\n",
    "\"\"\")\n"
   ]
  },
  {
   "cell_type": "code",
   "execution_count": null,
   "metadata": {},
   "outputs": [],
   "source": [
    "%%sql\n",
    "\n",
    "SELECT * from dim_time limit 20"
   ]
  },
  {
   "cell_type": "code",
   "execution_count": null,
   "metadata": {},
   "outputs": [],
   "source": []
  }
 ],
 "metadata": {
  "kernelspec": {
   "display_name": "Python 3",
   "language": "python",
   "name": "python3"
  },
  "language_info": {
   "codemirror_mode": {
    "name": "ipython",
    "version": 3
   },
   "file_extension": ".py",
   "mimetype": "text/x-python",
   "name": "python",
   "nbconvert_exporter": "python",
   "pygments_lexer": "ipython3",
   "version": "3.7.6"
  }
 },
 "nbformat": 4,
 "nbformat_minor": 4
}
